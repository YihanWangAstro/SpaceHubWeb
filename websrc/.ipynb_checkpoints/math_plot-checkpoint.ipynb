{
 "cells": [
  {
   "cell_type": "code",
   "execution_count": 1,
   "metadata": {},
   "outputs": [
    {
     "name": "stdout",
     "output_type": "stream",
     "text": [
      "Populating the interactive namespace from numpy and matplotlib\n"
     ]
    }
   ],
   "source": [
    "%pylab inline\n",
    "%config InlineBackend.figure_format = 'retina'\n",
    "import pandas as pd\n",
    "import seaborn as sns\n",
    "import warnings\n",
    "warnings.filterwarnings(action=\"once\")\n",
    "from multiprocessing import  Pool\n",
    "\n",
    "# @customize plot style \n",
    "plt.rcParams['axes.grid'] = 'True'\n",
    "plt.rcParams['grid.color'] = 'black'\n",
    "plt.rcParams['grid.linestyle'] = '--'\n",
    "plt.rcParams['grid.linewidth'] = 0.2\n",
    "plt.rcParams['xtick.direction'] = 'in'\n",
    "plt.rcParams['ytick.direction'] = 'in'\n",
    "plt.rcParams['xtick.top'] = True\n",
    "plt.rcParams['ytick.right'] = True\n",
    "plt.rcParams['xtick.bottom'] = True\n",
    "plt.rcParams['ytick.left'] = True\n",
    "plt.rcParams['xtick.minor.visible'] = True\n",
    "plt.rcParams['ytick.minor.visible'] = True\n",
    "plt.rcParams['ytick.minor.left'] = True\n",
    "plt.rcParams['ytick.minor.right'] = True\n",
    "plt.rcParams['figure.figsize'] = [4.0, 3.0]\n",
    "plt.rcParams['agg.path.chunksize'] = 10000\n",
    "\n",
    "sns.set_style(\"darkgrid\", {'xtick.top': True, 'ytick.right': True,'xtick.bottom': True, 'ytick.left': True,'grid.linestyle': '--','image.cmap': 'viridis','xtick.direction': 'in', 'ytick.direction': 'in'})\n",
    "\n",
    "# @global settings\n",
    "\n",
    "FIG_DPI      = 800\n",
    "FIG_EXT      = '.png'\n",
    "\n",
    "# @global functions\n",
    "def savefig(handler,name, fig_ext = FIG_EXT):\n",
    "    if name != '':\n",
    "        handler.savefig(name + fig_ext, dpi = FIG_DPI,bbox_inches = 'tight', pad_inches = 0.1)"
   ]
  },
  {
   "cell_type": "code",
   "execution_count": 2,
   "metadata": {},
   "outputs": [],
   "source": [
    "def draw_func(x,y,name):\n",
    "    fig = plt.figure(figsize=(3,2))\n",
    "    ax = fig.add_subplot(1,1,1)\n",
    "    ax.plot(x,y,color='#5b9dd9',lw=3)\n",
    "    ax.plot(x,y,color='#2f83cc',lw=1)\n",
    "    ax.set_xlabel('x')\n",
    "    ax.set_ylabel('y')\n",
    "    ax.set_facecolor('#2f363f')\n",
    "    savefig(plt,name)"
   ]
  },
  {
   "cell_type": "code",
   "execution_count": 3,
   "metadata": {},
   "outputs": [
    {
     "data": {
      "image/png": "[encoded data removed]",
      "text/plain": [
       "<Figure size 216x144 with 1 Axes>"
      ]
     },
     "metadata": {
      "image/png": {
       "height": 149,
       "width": 221
      },
      "needs_background": "light"
     },
     "output_type": "display_data"
    }
   ],
   "source": [
    "x=np.linspace(-10,10,1000)\n",
    "y=np.heaviside(x,0)\n",
    "\n",
    "draw_func(x,y,'img/math/step')\n"
   ]
  },
  {
   "cell_type": "code",
   "execution_count": null,
   "metadata": {},
   "outputs": [],
   "source": []
  }
 ],
 "metadata": {
  "file_extension": ".py",
  "kernelspec": {
   "display_name": "Python 3",
   "language": "python",
   "name": "python3"
  },
  "language_info": {
   "codemirror_mode": {
    "name": "ipython",
    "version": 3
   },
   "file_extension": ".py",
   "mimetype": "text/x-python",
   "name": "python",
   "nbconvert_exporter": "python",
   "pygments_lexer": "ipython3",
   "version": "3.7.5"
  },
  "mimetype": "text/x-python",
  "name": "python",
  "npconvert_exporter": "python",
  "pygments_lexer": "ipython3",
  "version": 3
 },
 "nbformat": 4,
 "nbformat_minor": 4
}
